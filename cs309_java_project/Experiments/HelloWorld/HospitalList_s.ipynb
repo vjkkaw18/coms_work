{
 "cells": [
  {
   "cell_type": "code",
   "execution_count": 1,
   "metadata": {},
   "outputs": [],
   "source": [
    "%matplotlib inline\n",
    "import pandas as pd\n",
    "import matplotlib.pyplot as plt\n",
    "import numpy as np"
   ]
  },
  {
   "cell_type": "code",
   "execution_count": 3,
   "metadata": {},
   "outputs": [],
   "source": [
    "df = pd.read_csv('HospitalLists_Database.csv')"
   ]
  },
  {
   "cell_type": "code",
   "execution_count": 63,
   "metadata": {},
   "outputs": [],
   "source": [
    "df = df.drop_duplicates(subset = 'name')"
   ]
  },
  {
   "cell_type": "code",
   "execution_count": 64,
   "metadata": {},
   "outputs": [],
   "source": [
    "il_df = pd.DataFrame(df, columns = ['name', 'address', 'beds', 'city', 'country', 'county', 'state', 'latitude', 'longitude', 'telephone', 'type', 'website', 'zip'])"
   ]
  },
  {
   "cell_type": "code",
   "execution_count": null,
   "metadata": {},
   "outputs": [],
   "source": []
  },
  {
   "cell_type": "code",
   "execution_count": 65,
   "metadata": {},
   "outputs": [],
   "source": [
    "il_df = il_df[il_df['state'] == 'IL']"
   ]
  },
  {
   "cell_type": "code",
   "execution_count": 66,
   "metadata": {},
   "outputs": [],
   "source": [
    "il_df_will = il_df[il_df['county'] == 'WILL']"
   ]
  },
  {
   "cell_type": "code",
   "execution_count": null,
   "metadata": {},
   "outputs": [],
   "source": []
  },
  {
   "cell_type": "code",
   "execution_count": 68,
   "metadata": {},
   "outputs": [
    {
     "data": {
      "text/html": [
       "<div>\n",
       "<style scoped>\n",
       "    .dataframe tbody tr th:only-of-type {\n",
       "        vertical-align: middle;\n",
       "    }\n",
       "\n",
       "    .dataframe tbody tr th {\n",
       "        vertical-align: top;\n",
       "    }\n",
       "\n",
       "    .dataframe thead th {\n",
       "        text-align: right;\n",
       "    }\n",
       "</style>\n",
       "<table border=\"1\" class=\"dataframe\">\n",
       "  <thead>\n",
       "    <tr style=\"text-align: right;\">\n",
       "      <th></th>\n",
       "      <th>name</th>\n",
       "      <th>address</th>\n",
       "      <th>beds</th>\n",
       "      <th>city</th>\n",
       "      <th>country</th>\n",
       "      <th>county</th>\n",
       "      <th>state</th>\n",
       "      <th>latitude</th>\n",
       "      <th>longitude</th>\n",
       "      <th>telephone</th>\n",
       "      <th>type</th>\n",
       "      <th>website</th>\n",
       "      <th>zip</th>\n",
       "    </tr>\n",
       "  </thead>\n",
       "  <tbody>\n",
       "    <tr>\n",
       "      <td>358</td>\n",
       "      <td>SILVER CROSS HOSPITAL AND MEDICAL CENTERS</td>\n",
       "      <td>1900 SILVER CROSS BLVD</td>\n",
       "      <td>289</td>\n",
       "      <td>NEW LENOX</td>\n",
       "      <td>USA</td>\n",
       "      <td>WILL</td>\n",
       "      <td>IL</td>\n",
       "      <td>41.544687</td>\n",
       "      <td>-87.983436</td>\n",
       "      <td>(815) 740-1100</td>\n",
       "      <td>GENERAL ACUTE CARE</td>\n",
       "      <td>http://www.silvercross.org</td>\n",
       "      <td>60451</td>\n",
       "    </tr>\n",
       "    <tr>\n",
       "      <td>359</td>\n",
       "      <td>ADVENTIST BOLINGBROOK HOSPITAL</td>\n",
       "      <td>500 REMINGTON BOULEVARD</td>\n",
       "      <td>148</td>\n",
       "      <td>BOLINGBROOK</td>\n",
       "      <td>USA</td>\n",
       "      <td>WILL</td>\n",
       "      <td>IL</td>\n",
       "      <td>41.680865</td>\n",
       "      <td>-88.084651</td>\n",
       "      <td>(630) 226-8100</td>\n",
       "      <td>GENERAL ACUTE CARE</td>\n",
       "      <td>http://www.keepingyouwell.com/abh/</td>\n",
       "      <td>60440</td>\n",
       "    </tr>\n",
       "    <tr>\n",
       "      <td>1273</td>\n",
       "      <td>EDWARD PLAINFIELD</td>\n",
       "      <td>24600 W 127TH ST</td>\n",
       "      <td>-999</td>\n",
       "      <td>PLAINFIELD</td>\n",
       "      <td>USA</td>\n",
       "      <td>WILL</td>\n",
       "      <td>IL</td>\n",
       "      <td>41.652821</td>\n",
       "      <td>-88.217380</td>\n",
       "      <td>(630) 527-3000</td>\n",
       "      <td>GENERAL ACUTE CARE</td>\n",
       "      <td>http://www.edward.org/plainfield</td>\n",
       "      <td>60585</td>\n",
       "    </tr>\n",
       "    <tr>\n",
       "      <td>5125</td>\n",
       "      <td>PRESENCE CENTRAL AND SUBURBAN HOSPITALS NETWOR...</td>\n",
       "      <td>333 N MADISON</td>\n",
       "      <td>480</td>\n",
       "      <td>JOLIET</td>\n",
       "      <td>USA</td>\n",
       "      <td>WILL</td>\n",
       "      <td>IL</td>\n",
       "      <td>41.527849</td>\n",
       "      <td>-88.135787</td>\n",
       "      <td>(815) 725-7133</td>\n",
       "      <td>GENERAL ACUTE CARE</td>\n",
       "      <td>http://www.presencehealth.org/presence-saint-j...</td>\n",
       "      <td>60435</td>\n",
       "    </tr>\n",
       "    <tr>\n",
       "      <td>7467</td>\n",
       "      <td>SILVER OAKS BEHAVORIAL HOSPITAL</td>\n",
       "      <td>1004 PAWLAK PARKWAY</td>\n",
       "      <td>100</td>\n",
       "      <td>NEW LENOX</td>\n",
       "      <td>USA</td>\n",
       "      <td>WILL</td>\n",
       "      <td>IL</td>\n",
       "      <td>41.544716</td>\n",
       "      <td>-87.987222</td>\n",
       "      <td>(212) 243-5565</td>\n",
       "      <td>PSYCHIATRIC</td>\n",
       "      <td>https://www.silveroaksbehavioralhospital.com/</td>\n",
       "      <td>60451</td>\n",
       "    </tr>\n",
       "  </tbody>\n",
       "</table>\n",
       "</div>"
      ],
      "text/plain": [
       "                                                   name  \\\n",
       "358           SILVER CROSS HOSPITAL AND MEDICAL CENTERS   \n",
       "359                      ADVENTIST BOLINGBROOK HOSPITAL   \n",
       "1273                                  EDWARD PLAINFIELD   \n",
       "5125  PRESENCE CENTRAL AND SUBURBAN HOSPITALS NETWOR...   \n",
       "7467                    SILVER OAKS BEHAVORIAL HOSPITAL   \n",
       "\n",
       "                      address  beds         city country county state  \\\n",
       "358    1900 SILVER CROSS BLVD   289    NEW LENOX     USA   WILL    IL   \n",
       "359   500 REMINGTON BOULEVARD   148  BOLINGBROOK     USA   WILL    IL   \n",
       "1273         24600 W 127TH ST  -999   PLAINFIELD     USA   WILL    IL   \n",
       "5125            333 N MADISON   480       JOLIET     USA   WILL    IL   \n",
       "7467      1004 PAWLAK PARKWAY   100    NEW LENOX     USA   WILL    IL   \n",
       "\n",
       "       latitude  longitude       telephone                type  \\\n",
       "358   41.544687 -87.983436  (815) 740-1100  GENERAL ACUTE CARE   \n",
       "359   41.680865 -88.084651  (630) 226-8100  GENERAL ACUTE CARE   \n",
       "1273  41.652821 -88.217380  (630) 527-3000  GENERAL ACUTE CARE   \n",
       "5125  41.527849 -88.135787  (815) 725-7133  GENERAL ACUTE CARE   \n",
       "7467  41.544716 -87.987222  (212) 243-5565         PSYCHIATRIC   \n",
       "\n",
       "                                                website    zip  \n",
       "358                          http://www.silvercross.org  60451  \n",
       "359                  http://www.keepingyouwell.com/abh/  60440  \n",
       "1273                   http://www.edward.org/plainfield  60585  \n",
       "5125  http://www.presencehealth.org/presence-saint-j...  60435  \n",
       "7467      https://www.silveroaksbehavioralhospital.com/  60451  "
      ]
     },
     "execution_count": 68,
     "metadata": {},
     "output_type": "execute_result"
    }
   ],
   "source": [
    "il_df_will"
   ]
  },
  {
   "cell_type": "code",
   "execution_count": null,
   "metadata": {},
   "outputs": [],
   "source": []
  }
 ],
 "metadata": {
  "kernelspec": {
   "display_name": "Python 3",
   "language": "python",
   "name": "python3"
  },
  "language_info": {
   "codemirror_mode": {
    "name": "ipython",
    "version": 3
   },
   "file_extension": ".py",
   "mimetype": "text/x-python",
   "name": "python",
   "nbconvert_exporter": "python",
   "pygments_lexer": "ipython3",
   "version": "3.7.4"
  }
 },
 "nbformat": 4,
 "nbformat_minor": 2
}
